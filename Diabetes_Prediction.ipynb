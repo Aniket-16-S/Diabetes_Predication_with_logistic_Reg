{
  "cells": [
    {
      "cell_type": "markdown",
      "metadata": {
        "id": "nPHqpqQMLZ5_"
      },
      "source": [
        "### **Importing Libraries**"
      ]
    },
    {
      "cell_type": "code",
      "execution_count": 2,
      "metadata": {
        "id": "JznNjvxcLpSq"
      },
      "outputs": [],
      "source": [
        "import pandas as pd\n",
        "import numpy as np\n",
        "import matplotlib.pyplot as plt\n",
        "import seaborn as sns\n",
        "from sklearn.compose import ColumnTransformer\n",
        "from sklearn.preprocessing import OneHotEncoder\n",
        "from sklearn.model_selection import train_test_split\n",
        "from sklearn.linear_model import LogisticRegression\n",
        "from sklearn.metrics import confusion_matrix, accuracy_score, classification_report, roc_curve, auc\n"
      ]
    },
    {
      "cell_type": "markdown",
      "metadata": {
        "id": "HAmKtkyQLzr7"
      },
      "source": [
        "**LOading data set**"
      ]
    },
    {
      "cell_type": "code",
      "execution_count": 3,
      "metadata": {
        "id": "4XlHzb-4L6zH"
      },
      "outputs": [],
      "source": [
        "dataset = pd.read_csv('Diabetes Classification.csv')\n",
        "\n",
        "x = dataset.iloc[:, 1:-1].values\n",
        "y = dataset.iloc[:, -1].values\n"
      ]
    },
    {
      "cell_type": "code",
      "execution_count": 4,
      "metadata": {
        "colab": {
          "base_uri": "https://localhost:8080/"
        },
        "id": "-D-Ox4FMNKzh",
        "outputId": "c5c455dd-af3b-40f2-a264-93e6b46fa7c2"
      },
      "outputs": [
        {
          "name": "stdout",
          "output_type": "stream",
          "text": [
            "[[50 'F' 24 ... 1.4 46.0 4.7]\n",
            " [26 'M' 23 ... 2.1 62.0 4.5]\n",
            " [33 'M' 21 ... 2.0 46.0 7.1]\n",
            " ...\n",
            " [67 'M' 24 ... 2.17 70.6 4.73]\n",
            " [60 'F' 29 ... 2.85 50.2 7.33]\n",
            " [37 'M' 34 ... 2.87 75.5 4.61]]\n"
          ]
        }
      ],
      "source": [
        "print(x)"
      ]
    },
    {
      "cell_type": "code",
      "execution_count": 5,
      "metadata": {
        "colab": {
          "base_uri": "https://localhost:8080/"
        },
        "id": "RHoBl1QTNMXs",
        "outputId": "c68edfa9-f230-498f-e645-39e7fed57d40"
      },
      "outputs": [
        {
          "name": "stdout",
          "output_type": "stream",
          "text": [
            "[0 0 0 ... 1 1 1]\n"
          ]
        }
      ],
      "source": [
        "print(y)"
      ]
    },
    {
      "cell_type": "markdown",
      "metadata": {
        "id": "x8crhHJhMFch"
      },
      "source": [
        "**Encoding categorical data**"
      ]
    },
    {
      "cell_type": "code",
      "execution_count": null,
      "metadata": {},
      "outputs": [],
      "source": []
    },
    {
      "cell_type": "code",
      "execution_count": 6,
      "metadata": {
        "id": "t8csyKxxMOCM"
      },
      "outputs": [],
      "source": [
        "ct = ColumnTransformer(transformers=[('encoder', OneHotEncoder(), [1])], remainder='passthrough')\n",
        "x = np.array(ct.fit_transform(x))\n"
      ]
    },
    {
      "cell_type": "code",
      "execution_count": 7,
      "metadata": {
        "colab": {
          "base_uri": "https://localhost:8080/"
        },
        "id": "6csBRfeQNPm_",
        "outputId": "f93e1cee-71cc-4f22-9f13-d1ec599b4ff1"
      },
      "outputs": [
        {
          "name": "stdout",
          "output_type": "stream",
          "text": [
            "[[1.0 0.0 0.0 ... 1.4 46.0 4.7]\n",
            " [0.0 1.0 0.0 ... 2.1 62.0 4.5]\n",
            " [0.0 1.0 0.0 ... 2.0 46.0 7.1]\n",
            " ...\n",
            " [0.0 1.0 0.0 ... 2.17 70.6 4.73]\n",
            " [1.0 0.0 0.0 ... 2.85 50.2 7.33]\n",
            " [0.0 1.0 0.0 ... 2.87 75.5 4.61]]\n"
          ]
        }
      ],
      "source": [
        "print(x)"
      ]
    },
    {
      "cell_type": "markdown",
      "metadata": {
        "id": "mpePGz0VMaHC"
      },
      "source": [
        "**Spliting data set for logistic regression**"
      ]
    },
    {
      "cell_type": "code",
      "execution_count": 11,
      "metadata": {
        "colab": {
          "base_uri": "https://localhost:8080/"
        },
        "id": "TrE-hS2FMZCQ",
        "outputId": "9a788e9f-f458-4b9c-d0f0-56b71a93c52c"
      },
      "outputs": [
        {
          "name": "stdout",
          "output_type": "stream",
          "text": [
            "[[1.0 0.0 0.0 ... 1.15 61.0 4.26]\n",
            " [1.0 0.0 0.0 ... 4.860753 4.860753 4.860753]\n",
            " [1.0 0.0 0.0 ... 3.03 58.5 4.5]\n",
            " ...\n",
            " [0.0 1.0 0.0 ... 2.46 79.1 7.8]\n",
            " [1.0 0.0 0.0 ... 1.46 67.0 6.1]\n",
            " [0.0 1.0 0.0 ... 2.46 66.2 3.51]]\n"
          ]
        },
        {
          "name": "stderr",
          "output_type": "stream",
          "text": [
            "C:\\Users\\anike\\AppData\\Roaming\\Python\\Python312\\site-packages\\sklearn\\linear_model\\_logistic.py:469: ConvergenceWarning: lbfgs failed to converge (status=1):\n",
            "STOP: TOTAL NO. of ITERATIONS REACHED LIMIT.\n",
            "\n",
            "Increase the number of iterations (max_iter) or scale the data as shown in:\n",
            "    https://scikit-learn.org/stable/modules/preprocessing.html\n",
            "Please also refer to the documentation for alternative solver options:\n",
            "    https://scikit-learn.org/stable/modules/linear_model.html#logistic-regression\n",
            "  n_iter_i = _check_optimize_result(\n"
          ]
        }
      ],
      "source": [
        "x_train, x_test, y_train, y_test = train_test_split(x, y, test_size=0.2, random_state=0)\n",
        "\n",
        "model = LogisticRegression()\n",
        "model.fit(x_train, y_train)\n",
        "\n",
        "y_pred = model.predict(x_test)\n",
        "print(x_test)"
      ]
    },
    {
      "cell_type": "code",
      "execution_count": 9,
      "metadata": {
        "colab": {
          "base_uri": "https://localhost:8080/"
        },
        "id": "Dno0-V35NG2Y",
        "outputId": "e26a9205-b7a9-459b-d64c-1aa17899b09a"
      },
      "outputs": [
        {
          "name": "stdout",
          "output_type": "stream",
          "text": [
            "[0 1 0 ... 1 0 0]\n"
          ]
        }
      ],
      "source": [
        "print(y_pred)"
      ]
    },
    {
      "cell_type": "markdown",
      "metadata": {
        "id": "5LB4fjHsNW2x"
      },
      "source": [
        "Visualising Confusion matrix"
      ]
    },
    {
      "cell_type": "code",
      "execution_count": 10,
      "metadata": {
        "colab": {
          "base_uri": "https://localhost:8080/",
          "height": 807
        },
        "id": "CFj0nYTTNSRP",
        "outputId": "1781997e-01dd-4a34-ae4d-98532a102cb6"
      },
      "outputs": [
        {
          "name": "stdout",
          "output_type": "stream",
          "text": [
            "Confusion Matrix:\n",
            "[[550  66]\n",
            " [106 305]]\n",
            "Accuracy Score: 0.8325219084712756\n",
            "Classification Report:\n",
            "              precision    recall  f1-score   support\n",
            "\n",
            "           0       0.84      0.89      0.86       616\n",
            "           1       0.82      0.74      0.78       411\n",
            "\n",
            "    accuracy                           0.83      1027\n",
            "   macro avg       0.83      0.82      0.82      1027\n",
            "weighted avg       0.83      0.83      0.83      1027\n",
            "\n"
          ]
        },
        {
          "data": {
            "image/png": "[encoded data removed]",
            "text/plain": [
              "<Figure size 800x600 with 2 Axes>"
            ]
          },
          "metadata": {},
          "output_type": "display_data"
        }
      ],
      "source": [
        "print(\"Confusion Matrix:\")\n",
        "cm = confusion_matrix(y_test, y_pred)\n",
        "print(cm)\n",
        "print(\"Accuracy Score:\", accuracy_score(y_test, y_pred))\n",
        "print(\"Classification Report:\")\n",
        "print(classification_report(y_test, y_pred))\n",
        "\n",
        "plt.figure(figsize=(8, 6))\n",
        "sns.heatmap(cm, annot=True, fmt='d', cmap='Blues', xticklabels=['No Diabetes', 'Diabetes'], yticklabels=['No Diabetes', 'Diabetes'])\n",
        "plt.title('Confusion Matrix')\n",
        "plt.xlabel('Predicted')\n",
        "plt.ylabel('Actual')\n",
        "plt.show()"
      ]
    },
    {
      "cell_type": "code",
      "execution_count": 16,
      "metadata": {},
      "outputs": [
        {
          "name": "stdout",
          "output_type": "stream",
          "text": [
            "(4105, 11)\n"
          ]
        }
      ],
      "source": [
        "print(x_train.shape)"
      ]
    },
    {
      "cell_type": "code",
      "execution_count": null,
      "metadata": {},
      "outputs": [],
      "source": [
        "print(\"hey\")\n",
        "\n",
        "\n",
        "predict = input(\"Want to predict more values (y/n) ? : \")\n",
        "if predict.lower() == 'y' :\n",
        "    x_live = input(\"Enter data in sequence: Gender(M/F) Age BMI Chol TG HDL LDL Cr BUN: \").strip().split(\" \")\n",
        "    gender = x_live[0].strip().strip(\"'\\\"\").upper()\n",
        "\n",
        "    new = []  # start with an empty list\n",
        "    new.append(gender)\n",
        "\n",
        "    for i in range(1, 9):\n",
        "        new.append(float(x_live[i]))\n",
        "\n",
        "    new = np.array([new], dtype=object) \n",
        "            \n",
        "    \n",
        "    try :\n",
        "       y = ct.transform(new)\n",
        "       print(y)\n",
        "    except Exception as e:\n",
        "       print(e)\n",
        "    \n",
        "    \n",
        "    while True:\n",
        "        x_live = input(\"Enter data in sequence: Age Gender(M/F) BMI Chol TG HDL LDL Cr BUN: \").strip().split(\" \")\n",
        "        if not x_live or x_live[0] == '':\n",
        "            break\n",
        "\n",
        "        # Manual encoding: assuming Gender is 2nd input (index 1)\n",
        "        gender = x_live[1].upper()\n",
        "        if gender == 'M':\n",
        "            x_live[1] = 1\n",
        "        elif gender == 'F':\n",
        "            x_live[1] = 0\n",
        "        else:\n",
        "            print(\"Invalid gender. Use M or F.\")\n",
        "            continue\n",
        "\n",
        "        try:\n",
        "            # Convert everything to float\n",
        "            x_live = np.array([float(val) for val in x_live]).reshape(1, -1)\n",
        "        except ValueError:\n",
        "            print(\"Please enter only numeric values (after encoding Gender).\")\n",
        "            continue\n",
        "\n",
        "        # Apply same preprocessing as training\n",
        "        x_live_transformed = ct.transform(x_live)  # Use transform, not fit_transform!\n",
        "        print(\"Transformed input:\", x_live_transformed)\n",
        "\n",
        "        y_live = model.predict(x_live_transformed)\n",
        "        print(\"Prediction:\", y_live)\n",
        "\n",
        "\n",
        "        "
      ]
    }
  ],
  "metadata": {
    "colab": {
      "provenance": []
    },
    "kernelspec": {
      "display_name": "Python 3",
      "name": "python3"
    },
    "language_info": {
      "codemirror_mode": {
        "name": "ipython",
        "version": 3
      },
      "file_extension": ".py",
      "mimetype": "text/x-python",
      "name": "python",
      "nbconvert_exporter": "python",
      "pygments_lexer": "ipython3",
      "version": "3.12.7"
    }
  },
  "nbformat": 4,
  "nbformat_minor": 0
}
